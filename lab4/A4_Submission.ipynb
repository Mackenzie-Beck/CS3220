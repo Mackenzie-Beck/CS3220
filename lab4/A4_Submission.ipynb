{
 "cells": [
  {
   "cell_type": "markdown",
   "metadata": {},
   "source": [
    "Notebook Setup\n",
    "---"
   ]
  },
  {
   "cell_type": "code",
   "execution_count": 1,
   "metadata": {},
   "outputs": [],
   "source": [
    "import os\n",
    "import sys"
   ]
  },
  {
   "cell_type": "code",
   "execution_count": 2,
   "metadata": {},
   "outputs": [],
   "source": [
    "%load_ext autoreload\n",
    "#Now, you can turn on auto-reloading\n",
    "%autoreload 2"
   ]
  },
  {
   "cell_type": "code",
   "execution_count": 3,
   "metadata": {},
   "outputs": [],
   "source": [
    "%matplotlib inline"
   ]
  },
  {
   "cell_type": "markdown",
   "metadata": {},
   "source": [
    "**Tasks:**\n",
    "\n",
    "1. Generate a random Maze with size (7,7) as a Numpy matrix, which includes 25% of occupied cells (walls).\n",
    "2. Build the Maze state space.\n",
    "3. Develop a transition model according to the following:\n",
    "* The Rat-Agent is allowed to move only on free cells by using the following actions: *left, up, right, down*.\n",
    "* Since the Maze is 7-story building different actions have different costs: left/right: -2 (from Agent's performance); down:-1; up:-4.\n",
    "4. Implement 2 Rat-Agents (based on Uniform-cost  and BreadthFirst Search algoritms) and apply them (separately) to find out which one is more productive for getting cheese (which Agent spends less peformance to get cheese).\n",
    "* for Uniform-cost Search apply BEST-FIRST-SEARCH\n",
    "with PATH-COST as the evaluation function\n",
    "* PATH-COST is the total cost of the path from the initial state to the node if actions costs are: left/right: 2 (if the action 'left'/'right' is applied to get the child-node from parent-node);down:1; up:4.\n",
    "5. Visualize the 2 search trees accordingly.\n",
    "6. Let's assume that the Rat-Agent (being in the initial state [0,0]) figured out (probably he could smell it) that the cheese is at the top of the Maze.\n",
    "* place the cheese in random cell but above 4th level (row) of the Maze\n",
    "* implement 2 search programs (based on Depth-first and Depth-limited strategies) for 2 to Rat-Agents and determine which Agent (DFS-based or DLS-base) will find the cheese faster (assuming that one move in the Maze takes 1 sec.)\n",
    "\n"
   ]
  },
  {
   "cell_type": "markdown",
   "metadata": {},
   "source": [
    "Task 1\n",
    "---"
   ]
  },
  {
   "cell_type": "code",
   "execution_count": 4,
   "metadata": {},
   "outputs": [
    {
     "data": {
      "text/plain": [
       "array([[1, 1, 0, 1, 1, 1, 1],\n",
       "       [1, 0, 1, 1, 1, 0, 1],\n",
       "       [1, 0, 1, 1, 1, 1, 1],\n",
       "       [1, 0, 1, 1, 1, 1, 1],\n",
       "       [0, 1, 1, 1, 1, 1, 1],\n",
       "       [1, 0, 1, 1, 0, 1, 0],\n",
       "       [1, 0, 1, 1, 1, 1, 1]])"
      ]
     },
     "execution_count": 4,
     "metadata": {},
     "output_type": "execute_result"
    }
   ],
   "source": [
    "from myMazeData import makeMaze\n",
    "\n",
    "n = 7\n",
    "a = makeMaze(n) # can take a second optional argument that defines the percentage of occupied walls. default is 0.25.\n",
    "a"
   ]
  },
  {
   "cell_type": "markdown",
   "metadata": {},
   "source": [
    "Task 2\n",
    "---"
   ]
  },
  {
   "cell_type": "code",
   "execution_count": 5,
   "metadata": {},
   "outputs": [
    {
     "data": {
      "text/plain": [
       "{(0, 0): ['right', 'down'],\n",
       " (0, 1): ['left', 'right', 'down'],\n",
       " (0, 2): ['left', 'right', 'down'],\n",
       " (0, 3): ['left', 'right', 'down'],\n",
       " (0, 4): ['left', 'right', 'down'],\n",
       " (0, 5): ['left', 'right', 'down'],\n",
       " (0, 6): ['left', 'down'],\n",
       " (1, 0): ['up', 'right', 'down'],\n",
       " (1, 1): ['left', 'up', 'right', 'down'],\n",
       " (1, 2): ['left', 'up', 'right', 'down'],\n",
       " (1, 3): ['left', 'up', 'right', 'down'],\n",
       " (1, 4): ['left', 'up', 'right', 'down'],\n",
       " (1, 5): ['left', 'up', 'right', 'down'],\n",
       " (1, 6): ['left', 'up', 'down'],\n",
       " (2, 0): ['up', 'right', 'down'],\n",
       " (2, 1): ['left', 'up', 'right', 'down'],\n",
       " (2, 2): ['left', 'up', 'right', 'down'],\n",
       " (2, 3): ['left', 'up', 'right', 'down'],\n",
       " (2, 4): ['left', 'up', 'right', 'down'],\n",
       " (2, 5): ['left', 'up', 'right', 'down'],\n",
       " (2, 6): ['left', 'up', 'down'],\n",
       " (3, 0): ['up', 'right', 'down'],\n",
       " (3, 1): ['left', 'up', 'right', 'down'],\n",
       " (3, 2): ['left', 'up', 'right', 'down'],\n",
       " (3, 3): ['left', 'up', 'right', 'down'],\n",
       " (3, 4): ['left', 'up', 'right', 'down'],\n",
       " (3, 5): ['left', 'up', 'right', 'down'],\n",
       " (3, 6): ['left', 'up', 'down'],\n",
       " (4, 0): ['up', 'right', 'down'],\n",
       " (4, 1): ['left', 'up', 'right', 'down'],\n",
       " (4, 2): ['left', 'up', 'right', 'down'],\n",
       " (4, 3): ['left', 'up', 'right', 'down'],\n",
       " (4, 4): ['left', 'up', 'right', 'down'],\n",
       " (4, 5): ['left', 'up', 'right', 'down'],\n",
       " (4, 6): ['left', 'up', 'down'],\n",
       " (5, 0): ['up', 'right', 'down'],\n",
       " (5, 1): ['left', 'up', 'right', 'down'],\n",
       " (5, 2): ['left', 'up', 'right', 'down'],\n",
       " (5, 3): ['left', 'up', 'right', 'down'],\n",
       " (5, 4): ['left', 'up', 'right', 'down'],\n",
       " (5, 5): ['left', 'up', 'right', 'down'],\n",
       " (5, 6): ['left', 'up', 'down'],\n",
       " (6, 0): ['up', 'right'],\n",
       " (6, 1): ['left', 'up', 'right'],\n",
       " (6, 2): ['left', 'up', 'right'],\n",
       " (6, 3): ['left', 'up', 'right'],\n",
       " (6, 4): ['left', 'up', 'right'],\n",
       " (6, 5): ['left', 'up', 'right'],\n",
       " (6, 6): []}"
      ]
     },
     "execution_count": 5,
     "metadata": {},
     "output_type": "execute_result"
    }
   ],
   "source": [
    "from myMazeData import defineMazeActions\n",
    "\n",
    "mazeActs = defineMazeActions(a)\n",
    "mazeActs"
   ]
  },
  {
   "cell_type": "code",
   "execution_count": 6,
   "metadata": {},
   "outputs": [
    {
     "data": {
      "text/plain": [
       "{(0, 0): {'right': (0, 1), 'down': (1, 0)},\n",
       " (0, 1): {'left': (0, 0), 'right': (0, 2), 'down': (1, 1)},\n",
       " (0, 2): {'left': (0, 1), 'right': (0, 3), 'down': (1, 2)},\n",
       " (0, 3): {'left': (0, 2), 'right': (0, 4), 'down': (1, 3)},\n",
       " (0, 4): {'left': (0, 3), 'right': (0, 5), 'down': (1, 4)},\n",
       " (0, 5): {'left': (0, 4), 'right': (0, 6), 'down': (1, 5)},\n",
       " (0, 6): {'left': (0, 5), 'down': (1, 6)},\n",
       " (1, 0): {'up': (0, 0), 'right': (1, 1), 'down': (2, 0)},\n",
       " (1, 1): {'left': (1, 0), 'up': (0, 1), 'right': (1, 2), 'down': (2, 1)},\n",
       " (1, 2): {'left': (1, 1), 'up': (0, 2), 'right': (1, 3), 'down': (2, 2)},\n",
       " (1, 3): {'left': (1, 2), 'up': (0, 3), 'right': (1, 4), 'down': (2, 3)},\n",
       " (1, 4): {'left': (1, 3), 'up': (0, 4), 'right': (1, 5), 'down': (2, 4)},\n",
       " (1, 5): {'left': (1, 4), 'up': (0, 5), 'right': (1, 6), 'down': (2, 5)},\n",
       " (1, 6): {'left': (1, 5), 'up': (0, 6), 'down': (2, 6)},\n",
       " (2, 0): {'up': (1, 0), 'right': (2, 1), 'down': (3, 0)},\n",
       " (2, 1): {'left': (2, 0), 'up': (1, 1), 'right': (2, 2), 'down': (3, 1)},\n",
       " (2, 2): {'left': (2, 1), 'up': (1, 2), 'right': (2, 3), 'down': (3, 2)},\n",
       " (2, 3): {'left': (2, 2), 'up': (1, 3), 'right': (2, 4), 'down': (3, 3)},\n",
       " (2, 4): {'left': (2, 3), 'up': (1, 4), 'right': (2, 5), 'down': (3, 4)},\n",
       " (2, 5): {'left': (2, 4), 'up': (1, 5), 'right': (2, 6), 'down': (3, 5)},\n",
       " (2, 6): {'left': (2, 5), 'up': (1, 6), 'down': (3, 6)},\n",
       " (3, 0): {'up': (2, 0), 'right': (3, 1), 'down': (4, 0)},\n",
       " (3, 1): {'left': (3, 0), 'up': (2, 1), 'right': (3, 2), 'down': (4, 1)},\n",
       " (3, 2): {'left': (3, 1), 'up': (2, 2), 'right': (3, 3), 'down': (4, 2)},\n",
       " (3, 3): {'left': (3, 2), 'up': (2, 3), 'right': (3, 4), 'down': (4, 3)},\n",
       " (3, 4): {'left': (3, 3), 'up': (2, 4), 'right': (3, 5), 'down': (4, 4)},\n",
       " (3, 5): {'left': (3, 4), 'up': (2, 5), 'right': (3, 6), 'down': (4, 5)},\n",
       " (3, 6): {'left': (3, 5), 'up': (2, 6), 'down': (4, 6)},\n",
       " (4, 0): {'up': (3, 0), 'right': (4, 1), 'down': (5, 0)},\n",
       " (4, 1): {'left': (4, 0), 'up': (3, 1), 'right': (4, 2), 'down': (5, 1)},\n",
       " (4, 2): {'left': (4, 1), 'up': (3, 2), 'right': (4, 3), 'down': (5, 2)},\n",
       " (4, 3): {'left': (4, 2), 'up': (3, 3), 'right': (4, 4), 'down': (5, 3)},\n",
       " (4, 4): {'left': (4, 3), 'up': (3, 4), 'right': (4, 5), 'down': (5, 4)},\n",
       " (4, 5): {'left': (4, 4), 'up': (3, 5), 'right': (4, 6), 'down': (5, 5)},\n",
       " (4, 6): {'left': (4, 5), 'up': (3, 6), 'down': (5, 6)},\n",
       " (5, 0): {'up': (4, 0), 'right': (5, 1), 'down': (6, 0)},\n",
       " (5, 1): {'left': (5, 0), 'up': (4, 1), 'right': (5, 2), 'down': (6, 1)},\n",
       " (5, 2): {'left': (5, 1), 'up': (4, 2), 'right': (5, 3), 'down': (6, 2)},\n",
       " (5, 3): {'left': (5, 2), 'up': (4, 3), 'right': (5, 4), 'down': (6, 3)},\n",
       " (5, 4): {'left': (5, 3), 'up': (4, 4), 'right': (5, 5), 'down': (6, 4)},\n",
       " (5, 5): {'left': (5, 4), 'up': (4, 5), 'right': (5, 6), 'down': (6, 5)},\n",
       " (5, 6): {'left': (5, 5), 'up': (4, 6), 'down': (6, 6)},\n",
       " (6, 0): {'up': (5, 0), 'right': (6, 1)},\n",
       " (6, 1): {'left': (6, 0), 'up': (5, 1), 'right': (6, 2)},\n",
       " (6, 2): {'left': (6, 1), 'up': (5, 2), 'right': (6, 3)},\n",
       " (6, 3): {'left': (6, 2), 'up': (5, 3), 'right': (6, 4)},\n",
       " (6, 4): {'left': (6, 3), 'up': (5, 4), 'right': (6, 5)},\n",
       " (6, 5): {'left': (6, 4), 'up': (5, 5), 'right': (6, 6)},\n",
       " (6, 6): {}}"
      ]
     },
     "execution_count": 6,
     "metadata": {},
     "output_type": "execute_result"
    }
   ],
   "source": [
    "from myMazeData import makeMazeTransformationModel\n",
    "\n",
    "maze = makeMazeTransformationModel(mazeActs)\n",
    "maze"
   ]
  },
  {
   "cell_type": "code",
   "execution_count": 7,
   "metadata": {},
   "outputs": [
    {
     "data": {
      "text/plain": [
       "{(0, 0): (0, 6),\n",
       " (0, 1): (4, 4),\n",
       " (0, 2): (8, 8),\n",
       " (0, 3): (2, 4),\n",
       " (0, 4): (3, 1),\n",
       " (0, 5): (5, 8),\n",
       " (0, 6): (2, 3),\n",
       " (1, 0): (1, 3),\n",
       " (1, 1): (7, 6),\n",
       " (1, 2): (5, 5),\n",
       " (1, 3): (7, 1),\n",
       " (1, 4): (7, 2),\n",
       " (1, 5): (1, 7),\n",
       " (1, 6): (8, 1),\n",
       " (2, 0): (8, 6),\n",
       " (2, 1): (6, 4),\n",
       " (2, 2): (2, 7),\n",
       " (2, 3): (7, 6),\n",
       " (2, 4): (4, 5),\n",
       " (2, 5): (2, 2),\n",
       " (2, 6): (2, 1),\n",
       " (3, 0): (4, 2),\n",
       " (3, 1): (0, 0),\n",
       " (3, 2): (1, 4),\n",
       " (3, 3): (8, 4),\n",
       " (3, 4): (4, 0),\n",
       " (3, 5): (5, 0),\n",
       " (3, 6): (8, 6),\n",
       " (4, 0): (5, 0),\n",
       " (4, 1): (1, 1),\n",
       " (4, 2): (0, 2),\n",
       " (4, 3): (0, 3),\n",
       " (4, 4): (0, 0),\n",
       " (4, 5): (3, 3),\n",
       " (4, 6): (3, 7),\n",
       " (5, 0): (8, 7),\n",
       " (5, 1): (5, 7),\n",
       " (5, 2): (3, 8),\n",
       " (5, 3): (6, 1),\n",
       " (5, 4): (7, 7),\n",
       " (5, 5): (5, 2),\n",
       " (5, 6): (8, 6),\n",
       " (6, 0): (5, 3),\n",
       " (6, 1): (2, 4),\n",
       " (6, 2): (8, 7),\n",
       " (6, 3): (2, 2),\n",
       " (6, 4): (6, 4),\n",
       " (6, 5): (7, 7),\n",
       " (6, 6): (4, 0)}"
      ]
     },
     "execution_count": 7,
     "metadata": {},
     "output_type": "execute_result"
    }
   ],
   "source": [
    "from myMazeData import mazeStatesLocations\n",
    "\n",
    "res = mazeStatesLocations(n)\n",
    "res"
   ]
  },
  {
   "cell_type": "markdown",
   "metadata": {},
   "source": [
    "Task 3\n",
    "---"
   ]
  },
  {
   "cell_type": "code",
   "execution_count": null,
   "metadata": {},
   "outputs": [],
   "source": []
  },
  {
   "cell_type": "markdown",
   "metadata": {},
   "source": [
    "Task 4\n",
    "---"
   ]
  },
  {
   "cell_type": "code",
   "execution_count": null,
   "metadata": {},
   "outputs": [],
   "source": []
  },
  {
   "cell_type": "markdown",
   "metadata": {},
   "source": [
    "Task 5\n",
    "---"
   ]
  },
  {
   "cell_type": "code",
   "execution_count": null,
   "metadata": {},
   "outputs": [],
   "source": []
  },
  {
   "cell_type": "markdown",
   "metadata": {},
   "source": [
    "Task 6\n",
    "---"
   ]
  },
  {
   "cell_type": "code",
   "execution_count": null,
   "metadata": {},
   "outputs": [],
   "source": []
  }
 ],
 "metadata": {
  "kernelspec": {
   "display_name": "Python 3",
   "language": "python",
   "name": "python3"
  },
  "language_info": {
   "codemirror_mode": {
    "name": "ipython",
    "version": 3
   },
   "file_extension": ".py",
   "mimetype": "text/x-python",
   "name": "python",
   "nbconvert_exporter": "python",
   "pygments_lexer": "ipython3",
   "version": "3.12.0"
  }
 },
 "nbformat": 4,
 "nbformat_minor": 2
}
