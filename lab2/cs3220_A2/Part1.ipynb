{
 "cells": [
  {
   "cell_type": "markdown",
   "metadata": {},
   "source": [
    "Task 1\n",
    "---\n",
    "Implementing the Dirt class:"
   ]
  },
  {
   "cell_type": "code",
   "execution_count": 58,
   "metadata": {},
   "outputs": [],
   "source": [
    "%reload_ext autoreload\n",
    "%autoreload 2"
   ]
  },
  {
   "cell_type": "code",
   "execution_count": 59,
   "metadata": {},
   "outputs": [],
   "source": [
    "import random\n",
    "import collections"
   ]
  },
  {
   "cell_type": "code",
   "execution_count": 60,
   "metadata": {},
   "outputs": [],
   "source": [
    "from dirt import Dirt"
   ]
  },
  {
   "cell_type": "code",
   "execution_count": 61,
   "metadata": {},
   "outputs": [
    {
     "name": "stdout",
     "output_type": "stream",
     "text": [
      "<Dirt>\n",
      "None\n",
      "dirt\n",
      "False\n"
     ]
    }
   ],
   "source": [
    "dirt1 = Dirt()\n",
    "print(dirt1)\n",
    "print(dirt1.location)\n",
    "print(dirt1.name)\n",
    "print(dirt1.is_alive())"
   ]
  },
  {
   "cell_type": "markdown",
   "metadata": {},
   "source": [
    "Modifying the TrivialVacuumEnvironment2 class:"
   ]
  },
  {
   "cell_type": "code",
   "execution_count": 62,
   "metadata": {},
   "outputs": [],
   "source": [
    "from TrivialVacuumEnvironment2 import TrivialVacuumEnvironment2"
   ]
  },
  {
   "cell_type": "code",
   "execution_count": 63,
   "metadata": {},
   "outputs": [
    {
     "name": "stdout",
     "output_type": "stream",
     "text": [
      "<Dirt> (0, 0)\n"
     ]
    }
   ],
   "source": [
    "tve2 = TrivialVacuumEnvironment2()\n",
    "tve2.add_thing(dirt1)\n",
    "tve2.list_things_location()\n",
    "tve2.remove_thing(dirt1)\n",
    "tve2.list_things_location()"
   ]
  },
  {
   "cell_type": "markdown",
   "metadata": {},
   "source": [
    "Task 2\n",
    "---\n",
    "Crazy House:"
   ]
  },
  {
   "cell_type": "code",
   "execution_count": 64,
   "metadata": {},
   "outputs": [],
   "source": [
    "from cat import Cat"
   ]
  },
  {
   "cell_type": "code",
   "execution_count": 65,
   "metadata": {},
   "outputs": [
    {
     "name": "stdout",
     "output_type": "stream",
     "text": [
      "Can't find a valid program for Cat, falling back to default.\n"
     ]
    }
   ],
   "source": [
    "actionList = ['MoveRight', 'MoveLeft', 'Eat', 'Drink', 'Fight']\n",
    "\n",
    "catAgent = Cat()"
   ]
  },
  {
   "cell_type": "code",
   "execution_count": 97,
   "metadata": {},
   "outputs": [
    {
     "data": {
      "text/plain": [
       "(0, 4)"
      ]
     },
     "execution_count": 97,
     "metadata": {},
     "output_type": "execute_result"
    }
   ],
   "source": [
    "from house import House\n",
    "house1 = House()\n",
    "house1.add_thing(catAgent)\n",
    "house1.things[0].location"
   ]
  },
  {
   "cell_type": "code",
   "execution_count": 67,
   "metadata": {},
   "outputs": [
    {
     "name": "stdout",
     "output_type": "stream",
     "text": [
      "<house.House object at 0x000002CDB67B7A40>\n",
      "<Mouse>\n",
      "<Milk>\n",
      "<Dog>\n"
     ]
    }
   ],
   "source": [
    "from mouse import Mouse\n",
    "from milk import Milk\n",
    "from dog import Dog\n",
    "\n",
    "mouse1 = Mouse()\n",
    "milk1 = Milk()\n",
    "dog1 = Dog()\n",
    "\n",
    "print(mouse1)\n",
    "print(milk1)\n",
    "print(dog1)"
   ]
  }
 ],
 "metadata": {
  "kernelspec": {
   "display_name": "Python 3",
   "language": "python",
   "name": "python3"
  },
  "language_info": {
   "codemirror_mode": {
    "name": "ipython",
    "version": 3
   },
   "file_extension": ".py",
   "mimetype": "text/x-python",
   "name": "python",
   "nbconvert_exporter": "python",
   "pygments_lexer": "ipython3",
   "version": "3.12.0"
  }
 },
 "nbformat": 4,
 "nbformat_minor": 2
}
