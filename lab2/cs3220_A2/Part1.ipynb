{
 "cells": [
  {
   "cell_type": "markdown",
   "metadata": {},
   "source": [
    "Task 1\n",
    "---\n",
    "Implementing the Dirt class:"
   ]
  },
  {
   "cell_type": "code",
   "execution_count": 1,
   "metadata": {},
   "outputs": [],
   "source": [
    "%reload_ext autoreload\n",
    "%autoreload 2"
   ]
  },
  {
   "cell_type": "code",
   "execution_count": 2,
   "metadata": {},
   "outputs": [],
   "source": [
    "import random\n",
    "import collections"
   ]
  },
  {
   "cell_type": "code",
   "execution_count": 3,
   "metadata": {},
   "outputs": [],
   "source": [
    "from dirt import Dirt"
   ]
  },
  {
   "cell_type": "code",
   "execution_count": 4,
   "metadata": {},
   "outputs": [
    {
     "name": "stdout",
     "output_type": "stream",
     "text": [
      "<Dirt>\n",
      "None\n",
      "dirt\n",
      "False\n"
     ]
    }
   ],
   "source": [
    "dirt1 = Dirt()\n",
    "print(dirt1)\n",
    "print(dirt1.location)\n",
    "print(dirt1.name)\n",
    "print(dirt1.is_alive())"
   ]
  },
  {
   "cell_type": "markdown",
   "metadata": {},
   "source": [
    "Modifying the TrivialVacuumEnvironment2 class:"
   ]
  },
  {
   "cell_type": "code",
   "execution_count": 5,
   "metadata": {},
   "outputs": [],
   "source": [
    "from TrivialVacuumEnvironment2 import TrivialVacuumEnvironment2"
   ]
  },
  {
   "cell_type": "code",
   "execution_count": 6,
   "metadata": {},
   "outputs": [
    {
     "name": "stdout",
     "output_type": "stream",
     "text": [
      "<Dirt> (0, 1)\n"
     ]
    }
   ],
   "source": [
    "tve2 = TrivialVacuumEnvironment2()\n",
    "tve2.add_thing(dirt1)\n",
    "tve2.list_things_location()\n",
    "tve2.remove_thing(dirt1)\n",
    "tve2.list_things_location()"
   ]
  },
  {
   "cell_type": "markdown",
   "metadata": {},
   "source": [
    "Task 2\n",
    "---\n",
    "Crazy House:"
   ]
  },
  {
   "cell_type": "code",
   "execution_count": 42,
   "metadata": {},
   "outputs": [
    {
     "name": "stdout",
     "output_type": "stream",
     "text": [
      "Drink\n",
      "MoveRight\n",
      "MoveLeft\n",
      "Drink\n",
      "MoveLeft\n",
      "MoveLeft\n",
      "MoveRight\n",
      "MoveRight\n",
      "MoveLeft\n",
      "MoveLeft\n"
     ]
    }
   ],
   "source": [
    "from agentPrograms import *\n",
    "\n",
    "actionList = ['MoveRight', 'MoveLeft', 'Eat', 'Drink', 'Fight']\n",
    "f = RandomAgentProgram(actionList)\n",
    "for i in range(10):\n",
    "    print(f('Meow'))"
   ]
  },
  {
   "cell_type": "code",
   "execution_count": 39,
   "metadata": {},
   "outputs": [
    {
     "name": "stdout",
     "output_type": "stream",
     "text": [
      "Can't find a valid program for Cat, falling back to default.\n"
     ]
    }
   ],
   "source": [
    "from cat import Cat\n",
    "\n",
    "program = RandomAgentProgram(actionList)\n",
    "catAgent = Cat(program)"
   ]
  },
  {
   "cell_type": "code",
   "execution_count": 24,
   "metadata": {},
   "outputs": [],
   "source": [
    "from house import House\n",
    "house1 = House()"
   ]
  },
  {
   "cell_type": "code",
   "execution_count": 25,
   "metadata": {},
   "outputs": [
    {
     "name": "stdout",
     "output_type": "stream",
     "text": [
      "<Cat> (0, 2)\n",
      "<Mouse> (0, 3)\n",
      "<Milk> (0, 2)\n",
      "<Dog> (0, 4)\n"
     ]
    }
   ],
   "source": [
    "from mouse import Mouse\n",
    "from milk import Milk\n",
    "from dog import Dog\n",
    "\n",
    "mouse1 = Mouse()\n",
    "milk1 = Milk()\n",
    "dog1 = Dog()\n",
    "\n",
    "house1.add_thing(mouse1)\n",
    "house1.add_thing(milk1)\n",
    "house1.add_thing(dog1)\n",
    "\n",
    "house1.list_things_location()"
   ]
  }
 ],
 "metadata": {
  "kernelspec": {
   "display_name": "Python 3",
   "language": "python",
   "name": "python3"
  },
  "language_info": {
   "codemirror_mode": {
    "name": "ipython",
    "version": 3
   },
   "file_extension": ".py",
   "mimetype": "text/x-python",
   "name": "python",
   "nbconvert_exporter": "python",
   "pygments_lexer": "ipython3",
   "version": "3.12.1"
  }
 },
 "nbformat": 4,
 "nbformat_minor": 2
}
