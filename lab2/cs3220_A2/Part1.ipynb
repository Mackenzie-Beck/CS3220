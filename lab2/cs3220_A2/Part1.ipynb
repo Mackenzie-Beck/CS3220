{
 "cells": [
  {
   "cell_type": "markdown",
   "metadata": {},
   "source": [
    "Task 2"
   ]
  },
  {
   "cell_type": "code",
   "execution_count": 2,
   "metadata": {},
   "outputs": [],
   "source": [
    "import random\n",
    "import collections\n",
    "from agentClass import Agent\n",
    "from cat import Cat"
   ]
  },
  {
   "cell_type": "code",
   "execution_count": 5,
   "metadata": {},
   "outputs": [
    {
     "name": "stdout",
     "output_type": "stream",
     "text": [
      "Can't find a valid program for Cat, falling back to default.\n"
     ]
    }
   ],
   "source": [
    "cat = Cat()"
   ]
  },
  {
   "cell_type": "code",
   "execution_count": 4,
   "metadata": {},
   "outputs": [],
   "source": [
    "actionList = ['MoveRight', 'MoveLeft', 'Eat', 'Drink', 'Fight']"
   ]
  },
  {
   "cell_type": "code",
   "execution_count": 15,
   "metadata": {},
   "outputs": [
    {
     "name": "stdout",
     "output_type": "stream",
     "text": [
      "<Mouse>\n",
      "<Milk>\n",
      "<Dog>\n"
     ]
    }
   ],
   "source": [
    "from mouse import Mouse\n",
    "from milk import Milk\n",
    "from dog import Dog\n",
    "\n",
    "mo1 = Mouse()\n",
    "mi1 = Milk()\n",
    "do1 = Dog()\n",
    "\n",
    "print(mo1)\n",
    "print(mi1)\n",
    "print(do1)"
   ]
  }
 ],
 "metadata": {
  "kernelspec": {
   "display_name": "Python 3",
   "language": "python",
   "name": "python3"
  },
  "language_info": {
   "codemirror_mode": {
    "name": "ipython",
    "version": 3
   },
   "file_extension": ".py",
   "mimetype": "text/x-python",
   "name": "python",
   "nbconvert_exporter": "python",
   "pygments_lexer": "ipython3",
   "version": "3.12.1"
  }
 },
 "nbformat": 4,
 "nbformat_minor": 2
}
