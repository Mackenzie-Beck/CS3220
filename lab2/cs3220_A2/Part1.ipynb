{
 "cells": [
  {
   "cell_type": "markdown",
   "metadata": {},
   "source": [
    "Task 1\n",
    "---\n",
    "Implementing the Dirt class:"
   ]
  },
  {
   "cell_type": "code",
   "execution_count": 1,
   "metadata": {},
   "outputs": [],
   "source": [
    "%reload_ext autoreload\n",
    "%autoreload 2"
   ]
  },
  {
   "cell_type": "code",
   "execution_count": 2,
   "metadata": {},
   "outputs": [
    {
     "name": "stdout",
     "output_type": "stream",
     "text": [
      "<Dirt>\n",
      "None\n",
      "dirt\n",
      "False\n"
     ]
    }
   ],
   "source": [
    "from dirt import Dirt\n",
    "\n",
    "dirt1 = Dirt()\n",
    "print(dirt1)\n",
    "print(dirt1.location)\n",
    "print(dirt1.name)\n",
    "print(dirt1.is_alive())"
   ]
  },
  {
   "cell_type": "markdown",
   "metadata": {},
   "source": [
    "Modifying the TrivialVacuumEnvironment2 class:"
   ]
  },
  {
   "cell_type": "code",
   "execution_count": 3,
   "metadata": {},
   "outputs": [
    {
     "name": "stdout",
     "output_type": "stream",
     "text": [
      "<Dirt> (0, 1)\n"
     ]
    }
   ],
   "source": [
    "from TrivialVacuumEnvironment2 import TrivialVacuumEnvironment2\n",
    "\n",
    "tve2 = TrivialVacuumEnvironment2()\n",
    "tve2.add_thing(dirt1)\n",
    "tve2.list_things_location()\n",
    "tve2.remove_thing(dirt1)\n",
    "tve2.list_things_location()"
   ]
  },
  {
   "cell_type": "markdown",
   "metadata": {},
   "source": [
    "Task 2\n",
    "---\n",
    "Crazy House:"
   ]
  },
  {
   "cell_type": "code",
   "execution_count": 47,
   "metadata": {},
   "outputs": [
    {
     "name": "stdout",
     "output_type": "stream",
     "text": [
      "<Cat>\n",
      "Drink\n",
      "MoveLeft\n",
      "MoveRight\n",
      "MoveLeft\n",
      "MoveLeft\n"
     ]
    }
   ],
   "source": [
    "from agentPrograms import *\n",
    "from cat import Cat\n",
    "\n",
    "actionList = ['MoveRight', 'MoveLeft', 'Eat', 'Drink', 'Fight']\n",
    "def RandomCatAgent():\n",
    "    return Cat(RandomAgentProgram(actionList))\n",
    "\n",
    "catAgent = RandomCatAgent()\n",
    "print(catAgent)\n",
    "for i in range(5):\n",
    "    print(catAgent.program('test'))\n"
   ]
  },
  {
   "cell_type": "code",
   "execution_count": 58,
   "metadata": {},
   "outputs": [
    {
     "name": "stdout",
     "output_type": "stream",
     "text": [
      "<Mouse> (0, 2)\n",
      "<Dog> (0, 4)\n",
      "<Cat> (0, 1)\n",
      "False\n",
      "step 1:\n",
      "<Cat> agent percepted [] at (0, 1).\n",
      "Agent decided to Drink.\n",
      "50\n",
      "step 2:\n",
      "<Cat> agent percepted [] at (0, 1).\n",
      "Agent decided to MoveRight.\n",
      "49\n",
      "step 3:\n",
      "<Cat> agent percepted [<Mouse>] at (0, 2).\n",
      "Agent decided to Fight.\n",
      "49\n",
      "step 4:\n",
      "<Cat> agent percepted [<Mouse>] at (0, 2).\n",
      "Agent decided to Fight.\n",
      "49\n",
      "step 5:\n",
      "<Cat> agent percepted [<Mouse>] at (0, 2).\n",
      "Agent decided to MoveRight.\n",
      "48\n",
      "step 6:\n",
      "<Cat> agent percepted [] at (0, 3).\n",
      "Agent decided to MoveLeft.\n",
      "47\n",
      "step 7:\n",
      "<Cat> agent percepted [<Mouse>] at (0, 2).\n",
      "Agent decided to Fight.\n",
      "47\n",
      "step 8:\n",
      "<Cat> agent percepted [<Mouse>] at (0, 2).\n",
      "Agent decided to Fight.\n",
      "47\n",
      "step 9:\n",
      "<Cat> agent percepted [<Mouse>] at (0, 2).\n",
      "Agent decided to Fight.\n",
      "47\n",
      "step 10:\n",
      "<Cat> agent percepted [<Mouse>] at (0, 2).\n",
      "Agent decided to MoveRight.\n",
      "46\n",
      "step 11:\n",
      "<Cat> agent percepted [] at (0, 3).\n",
      "Agent decided to Drink.\n",
      "46\n",
      "step 12:\n",
      "<Cat> agent percepted [] at (0, 3).\n",
      "Agent decided to MoveRight.\n",
      "45\n",
      "step 13:\n",
      "<Cat> agent percepted [<Dog>] at (0, 4).\n",
      "Agent decided to Fight.\n",
      "45\n",
      "step 14:\n",
      "<Cat> agent percepted [<Dog>] at (0, 4).\n",
      "Agent decided to Eat.\n",
      "45\n",
      "step 15:\n",
      "<Cat> agent percepted [<Dog>] at (0, 4).\n",
      "Agent decided to Eat.\n",
      "45\n",
      "step 16:\n",
      "<Cat> agent percepted [<Dog>] at (0, 4).\n",
      "Agent decided to Eat.\n",
      "45\n",
      "step 17:\n",
      "<Cat> agent percepted [<Dog>] at (0, 4).\n",
      "Agent decided to Fight.\n",
      "45\n",
      "step 18:\n",
      "<Cat> agent percepted [<Dog>] at (0, 4).\n",
      "Agent decided to Eat.\n",
      "45\n",
      "step 19:\n",
      "<Cat> agent percepted [<Dog>] at (0, 4).\n",
      "Agent decided to MoveRight.\n",
      "44\n",
      "step 20:\n",
      "<Cat> agent percepted [<Dog>] at (0, 4).\n",
      "Agent decided to MoveLeft.\n",
      "43\n"
     ]
    }
   ],
   "source": [
    "from house import House\n",
    "from mouse import Mouse\n",
    "from milk import Milk\n",
    "from dog import Dog\n",
    "\n",
    "catAgent.performance = 50\n",
    "\n",
    "environment = House()\n",
    "mouse1 = Mouse()\n",
    "milk1 = Milk()\n",
    "dog1 = Dog()\n",
    "\n",
    "environment.add_thing(mouse1)\n",
    "environment.add_thing(milk1)\n",
    "environment.add_thing(dog1)\n",
    "\n",
    "environment.add_thing(catAgent)\n",
    "\n",
    "environment.list_things_location()\n",
    "\n",
    "print(environment.is_done())\n",
    "\n",
    "environment.run(20)\n",
    "catAgent.alive = True #Reset\n",
    "\n"
   ]
  }
 ],
 "metadata": {
  "kernelspec": {
   "display_name": "Python 3",
   "language": "python",
   "name": "python3"
  },
  "language_info": {
   "codemirror_mode": {
    "name": "ipython",
    "version": 3
   },
   "file_extension": ".py",
   "mimetype": "text/x-python",
   "name": "python",
   "nbconvert_exporter": "python",
   "pygments_lexer": "ipython3",
   "version": "3.12.1"
  }
 },
 "nbformat": 4,
 "nbformat_minor": 2
}
