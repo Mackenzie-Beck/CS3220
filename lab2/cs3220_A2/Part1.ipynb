{
 "cells": [
  {
   "cell_type": "markdown",
   "metadata": {},
   "source": [
    "Task 1\n",
    "---\n",
    "Implementing the Dirt class:"
   ]
  },
  {
   "cell_type": "code",
   "execution_count": 1,
   "metadata": {},
   "outputs": [],
   "source": [
    "%reload_ext autoreload\n",
    "%autoreload 2"
   ]
  },
  {
   "cell_type": "code",
   "execution_count": 2,
   "metadata": {},
   "outputs": [],
   "source": [
    "import random\n",
    "import collections"
   ]
  },
  {
   "cell_type": "code",
   "execution_count": 3,
   "metadata": {},
   "outputs": [],
   "source": [
    "from dirt import Dirt"
   ]
  },
  {
   "cell_type": "code",
   "execution_count": 4,
   "metadata": {},
   "outputs": [
    {
     "name": "stdout",
     "output_type": "stream",
     "text": [
      "<Dirt>\n",
      "None\n",
      "dirt\n",
      "False\n"
     ]
    }
   ],
   "source": [
    "dirt1 = Dirt()\n",
    "print(dirt1)\n",
    "print(dirt1.location)\n",
    "print(dirt1.name)\n",
    "print(dirt1.is_alive())"
   ]
  },
  {
   "cell_type": "markdown",
   "metadata": {},
   "source": [
    "Modifying the TrivialVacuumEnvironment2 class:"
   ]
  },
  {
   "cell_type": "code",
   "execution_count": 5,
   "metadata": {},
   "outputs": [],
   "source": [
    "from TrivialVacuumEnvironment2 import TrivialVacuumEnvironment2"
   ]
  },
  {
   "cell_type": "code",
   "execution_count": 6,
   "metadata": {},
   "outputs": [
    {
     "name": "stdout",
     "output_type": "stream",
     "text": [
      "<Dirt> (0, 0)\n"
     ]
    }
   ],
   "source": [
    "tve2 = TrivialVacuumEnvironment2()\n",
    "tve2.add_thing(dirt1)\n",
    "tve2.list_things_location()\n",
    "tve2.remove_thing(dirt1)\n",
    "tve2.list_things_location()"
   ]
  },
  {
   "cell_type": "markdown",
   "metadata": {},
   "source": [
    "Task 2\n",
    "---\n",
    "Crazy House:"
   ]
  },
  {
   "cell_type": "code",
   "execution_count": 2,
   "metadata": {},
   "outputs": [
    {
     "name": "stdout",
     "output_type": "stream",
     "text": [
      "<Cat>\n",
      "Eat\n",
      "Eat\n",
      "Drink\n",
      "Fight\n",
      "MoveLeft\n"
     ]
    }
   ],
   "source": [
    "from agentPrograms import *\n",
    "from cat import Cat\n",
    "\n",
    "actionList = ['MoveRight', 'MoveLeft', 'Eat', 'Drink', 'Fight']\n",
    "def RandomCatAgent():\n",
    "    return Cat(RandomAgentProgram(actionList))\n",
    "\n",
    "test = RandomCatAgent()\n",
    "print(test)\n",
    "for i in range(5):\n",
    "    print(test.program('test'))\n"
   ]
  },
  {
   "cell_type": "code",
   "execution_count": 3,
   "metadata": {},
   "outputs": [
    {
     "name": "stdout",
     "output_type": "stream",
     "text": [
      "Can't find a valid program for Cat, falling back to default.\n"
     ]
    }
   ],
   "source": [
    "catAgent = Cat()\n",
    "\n",
    "#print(catAgent.program('Start'))\n"
   ]
  },
  {
   "cell_type": "code",
   "execution_count": 17,
   "metadata": {},
   "outputs": [
    {
     "name": "stdout",
     "output_type": "stream",
     "text": [
      "<Mouse> (0, 3)\n",
      "<Milk> (0, 0)\n",
      "<Dog> (0, 4)\n"
     ]
    }
   ],
   "source": [
    "from house import House\n",
    "from mouse import Mouse\n",
    "from milk import Milk\n",
    "from dog import Dog\n",
    "\n",
    "environment = House()\n",
    "mouse1 = Mouse()\n",
    "milk1 = Milk()\n",
    "dog1 = Dog()\n",
    "\n",
    "environment.add_thing(mouse1)\n",
    "environment.add_thing(milk1)\n",
    "environment.add_thing(dog1)\n",
    "\n",
    "environment.list_things_location()\n",
    "\n"
   ]
  }
 ],
 "metadata": {
  "kernelspec": {
   "display_name": "Python 3",
   "language": "python",
   "name": "python3"
  },
  "language_info": {
   "codemirror_mode": {
    "name": "ipython",
    "version": 3
   },
   "file_extension": ".py",
   "mimetype": "text/x-python",
   "name": "python",
   "nbconvert_exporter": "python",
   "pygments_lexer": "ipython3",
   "version": "3.12.1"
  }
 },
 "nbformat": 4,
 "nbformat_minor": 2
}
