{
 "cells": [
  {
   "cell_type": "markdown",
   "metadata": {},
   "source": [
    "Task 1\n",
    "---\n",
    "Implementing the Dirt class:"
   ]
  },
  {
   "cell_type": "code",
   "execution_count": 12,
   "metadata": {},
   "outputs": [
    {
     "name": "stdout",
     "output_type": "stream",
     "text": [
      "<Dirt>\n",
      "None\n",
      "dirt\n",
      "False\n"
     ]
    }
   ],
   "source": [
    "from dirt import Dirt\n",
    "\n",
    "dirt1 = Dirt()\n",
    "print(dirt1)\n",
    "print(dirt1.location)\n",
    "print(dirt1.name)\n",
    "print(dirt1.is_alive())"
   ]
  },
  {
   "cell_type": "markdown",
   "metadata": {},
   "source": [
    "Modifying the TrivialVacuumEnvironment2 class:"
   ]
  },
  {
   "cell_type": "code",
   "execution_count": 13,
   "metadata": {},
   "outputs": [
    {
     "name": "stdout",
     "output_type": "stream",
     "text": [
      "<Dirt> (0, 1)\n"
     ]
    }
   ],
   "source": [
    "from TrivialVacuumEnvironment2 import TrivialVacuumEnvironment2\n",
    "\n",
    "tve2 = TrivialVacuumEnvironment2()\n",
    "tve2.add_thing(dirt1)\n",
    "tve2.list_things_location()\n",
    "tve2.remove_thing(dirt1)\n",
    "tve2.list_things_location()"
   ]
  },
  {
   "cell_type": "markdown",
   "metadata": {},
   "source": [
    "Task 2\n",
    "---\n",
    "Crazy House:"
   ]
  },
  {
   "cell_type": "code",
   "execution_count": 14,
   "metadata": {},
   "outputs": [
    {
     "name": "stdout",
     "output_type": "stream",
     "text": [
      "<Cat>\n",
      "MoveLeft\n",
      "Drink\n",
      "MoveLeft\n",
      "Drink\n",
      "Drink\n"
     ]
    }
   ],
   "source": [
    "from agentPrograms import *\n",
    "from cat import Cat\n",
    "\n",
    "actionList = ['MoveRight', 'MoveLeft', 'Eat', 'Drink', 'Fight']\n",
    "def RandomCatAgent():\n",
    "    return Cat(RandomAgentProgram(actionList))\n",
    "\n",
    "catAgent = RandomCatAgent()\n",
    "print(catAgent)\n",
    "for i in range(5):\n",
    "    print(catAgent.program('test'))\n"
   ]
  },
  {
   "cell_type": "code",
   "execution_count": 17,
   "metadata": {},
   "outputs": [
    {
     "name": "stdout",
     "output_type": "stream",
     "text": [
      "<Mouse> (0, 3)\n",
      "<Dog> (0, 1)\n",
      "<Cat> (0, 1)\n",
      "Environment Done: False\n",
      "\n",
      "Step 1:\n",
      "<Cat> percepted [<Dog>] at (0, 1).\n",
      "<Cat> decided to Eat.\n",
      "There was nothing to Eat.\n",
      "Remaining Performance: 10\n",
      "Step 2:\n",
      "<Cat> percepted [<Dog>] at (0, 1).\n",
      "<Cat> decided to Drink.\n",
      "There was nothing to Drink.\n",
      "Remaining Performance: 10\n",
      "Step 3:\n",
      "<Cat> percepted [<Dog>] at (0, 1).\n",
      "<Cat> decided to MoveLeft.\n",
      "<Cat> moved left.\n",
      "Remaining Performance: 9\n",
      "Step 4:\n",
      "<Cat> percepted [] at (0, 0).\n",
      "<Cat> decided to Drink.\n",
      "There was nothing to Drink.\n",
      "Remaining Performance: 9\n",
      "Step 5:\n",
      "<Cat> percepted [] at (0, 0).\n",
      "<Cat> decided to Eat.\n",
      "There was nothing to Eat.\n",
      "Remaining Performance: 9\n",
      "Step 6:\n",
      "<Cat> percepted [] at (0, 0).\n",
      "<Cat> decided to MoveLeft.\n",
      "<Cat> moved left.\n",
      "Remaining Performance: 8\n",
      "Step 7:\n",
      "<Cat> percepted [] at (0, 0).\n",
      "<Cat> decided to MoveRight.\n",
      "<Cat> moved right.\n",
      "Remaining Performance: 7\n",
      "Step 8:\n",
      "<Cat> percepted [<Dog>] at (0, 1).\n",
      "<Cat> decided to MoveRight.\n",
      "<Cat> moved right.\n",
      "Remaining Performance: 6\n",
      "Step 9:\n",
      "<Cat> percepted [] at (0, 2).\n",
      "<Cat> decided to Fight.\n",
      "There was nothing to Fight.\n",
      "Remaining Performance: 6\n",
      "Step 10:\n",
      "<Cat> percepted [] at (0, 2).\n",
      "<Cat> decided to MoveLeft.\n",
      "<Cat> moved left.\n",
      "Remaining Performance: 5\n",
      "Step 11:\n",
      "<Cat> percepted [<Dog>] at (0, 1).\n",
      "<Cat> decided to MoveLeft.\n",
      "<Cat> moved left.\n",
      "Remaining Performance: 4\n",
      "Step 12:\n",
      "<Cat> percepted [] at (0, 0).\n",
      "<Cat> decided to MoveRight.\n",
      "<Cat> moved right.\n",
      "Remaining Performance: 3\n",
      "Step 13:\n",
      "<Cat> percepted [<Dog>] at (0, 1).\n",
      "<Cat> decided to Drink.\n",
      "There was nothing to Drink.\n",
      "Remaining Performance: 3\n",
      "Step 14:\n",
      "<Cat> percepted [<Dog>] at (0, 1).\n",
      "<Cat> decided to Drink.\n",
      "There was nothing to Drink.\n",
      "Remaining Performance: 3\n",
      "Step 15:\n",
      "<Cat> percepted [<Dog>] at (0, 1).\n",
      "<Cat> decided to Drink.\n",
      "There was nothing to Drink.\n",
      "Remaining Performance: 3\n",
      "Step 16:\n",
      "<Cat> percepted [<Dog>] at (0, 1).\n",
      "<Cat> decided to MoveLeft.\n",
      "<Cat> moved left.\n",
      "Remaining Performance: 2\n",
      "Step 17:\n",
      "<Cat> percepted [] at (0, 0).\n",
      "<Cat> decided to Eat.\n",
      "There was nothing to Eat.\n",
      "Remaining Performance: 2\n",
      "Step 18:\n",
      "<Cat> percepted [] at (0, 0).\n",
      "<Cat> decided to Drink.\n",
      "There was nothing to Drink.\n",
      "Remaining Performance: 2\n",
      "Step 19:\n",
      "<Cat> percepted [] at (0, 0).\n",
      "<Cat> decided to MoveLeft.\n",
      "<Cat> moved left.\n",
      "Remaining Performance: 1\n",
      "Step 20:\n",
      "<Cat> percepted [] at (0, 0).\n",
      "<Cat> decided to Drink.\n",
      "There was nothing to Drink.\n",
      "Remaining Performance: 1\n",
      "Step 21:\n",
      "<Cat> percepted [] at (0, 0).\n",
      "<Cat> decided to MoveLeft.\n",
      "<Cat> moved left.\n",
      "<Cat> is dead.\n",
      "Remaining Performance: 0\n",
      "\n",
      "Environment Done: True\n"
     ]
    }
   ],
   "source": [
    "from house import House\n",
    "from mouse import Mouse\n",
    "from milk import Milk\n",
    "from dog import Dog\n",
    "\n",
    "house1 = House()\n",
    "mouse1 = Mouse()\n",
    "milk1 = Milk()\n",
    "dog1 = Dog()\n",
    "\n",
    "house1.add_thing(mouse1)\n",
    "house1.add_thing(milk1)\n",
    "house1.add_thing(dog1)\n",
    "\n",
    "house1.add_thing(catAgent)\n",
    "\n",
    "house1.list_things_location()\n",
    "\n",
    "print(f'Environment Done: {house1.is_done()}\\n')\n",
    "house1.run(50)\n",
    "print(f'\\nEnvironment Done: {house1.is_done()}')\n",
    "\n",
    "#Reset for when cell needs to be rerun.\n",
    "catAgent.alive = True\n",
    "catAgent.performance = 10"
   ]
  }
 ],
 "metadata": {
  "kernelspec": {
   "display_name": "Python 3",
   "language": "python",
   "name": "python3"
  },
  "language_info": {
   "codemirror_mode": {
    "name": "ipython",
    "version": 3
   },
   "file_extension": ".py",
   "mimetype": "text/x-python",
   "name": "python",
   "nbconvert_exporter": "python",
   "pygments_lexer": "ipython3",
   "version": "3.12.1"
  }
 },
 "nbformat": 4,
 "nbformat_minor": 2
}
