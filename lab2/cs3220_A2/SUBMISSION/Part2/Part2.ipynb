{
  "nbformat": 4,
  "nbformat_minor": 0,
  "metadata": {
    "colab": {
      "provenance": []
    },
    "kernelspec": {
      "name": "python3",
      "display_name": "Python 3"
    },
    "language_info": {
      "name": "python"
    }
  },
  "cells": [
    {
      "cell_type": "code",
      "execution_count": 1,
      "metadata": {
        "colab": {
          "base_uri": "https://localhost:8080/"
        },
        "id": "xDrX2bgNGPPt",
        "outputId": "44768243-25de-45e0-9b35-904f70b0e7a3"
      },
      "outputs": [
        {
          "output_type": "stream",
          "name": "stdout",
          "text": [
            "Cloning into 'CS3220'...\n",
            "remote: Enumerating objects: 395, done.\u001b[K\n",
            "remote: Counting objects: 100% (395/395), done.\u001b[K\n",
            "remote: Compressing objects: 100% (276/276), done.\u001b[K\n",
            "remote: Total 395 (delta 174), reused 332 (delta 111), pack-reused 0 (from 0)\u001b[K\n",
            "Receiving objects: 100% (395/395), 1.97 MiB | 4.91 MiB/s, done.\n",
            "Resolving deltas: 100% (174/174), done.\n"
          ]
        }
      ],
      "source": [
        "!git clone https://github.com/Mackenzie-Beck/CS3220.git"
      ]
    },
    {
      "cell_type": "code",
      "source": [
        "cd CS3220/lab2/cs3220_A2/SUBMISSION/Part2"
      ],
      "metadata": {
        "colab": {
          "base_uri": "https://localhost:8080/"
        },
        "id": "eR_5qHQVGU6k",
        "outputId": "807ff9c8-8112-4d41-db22-552c4ec9e6c5"
      },
      "execution_count": 2,
      "outputs": [
        {
          "output_type": "stream",
          "name": "stdout",
          "text": [
            "/content/CS3220/lab2/cs3220_A2/SUBMISSION/Part2\n"
          ]
        }
      ]
    },
    {
      "cell_type": "code",
      "source": [
        "from locations_cfh import *\n",
        "\n",
        "# lookup table for the cat friendly house\n",
        "# Did not enjoy this\n",
        "\n",
        "feedingRules = {\n",
        "    #start in room 1\n",
        "\n",
        "\n",
        "    #Empty room 1\n",
        "    ((1, 'Empty'),): 'moveright',\n",
        "\n",
        "\n",
        "    #Empty room 1, Sausage room 2\n",
        "    ((1, 'Empty'), (2, 'SausageHere')): 'eat',\n",
        "    ((1, 'Empty'), (2, 'SausageHere'), (2, 'Empty')): 'moveright',\n",
        "    ((1, 'Empty'), (2, 'SausageHere'), (2, 'Empty'), (3, 'MilkHere')): 'drink',\n",
        "    ((1, 'Empty'), (2, 'SausageHere'), (2, 'Empty'), (3, 'MilkHere'), (3, 'Empty')): 'stop',\n",
        "\n",
        "\n",
        "\n",
        "\n",
        "\n",
        "    #Empty room 1, Milk room 2\n",
        "    ((1, 'Empty'), (2, 'MilkHere')): 'drink',\n",
        "    ((1, 'Empty'), (2, 'MilkHere'), (2, 'Empty')): 'moveright',\n",
        "    ((1, 'Empty'), (2, 'MilkHere'), (2, 'Empty'), (3, 'SausageHere')): 'eat',\n",
        "    ((1, 'Empty'), (2, 'MilkHere'), (2, 'Empty'), (3, 'SausageHere'), (3, 'Empty')): 'stop',\n",
        "\n",
        "\n",
        "\n",
        "\n",
        "    #Sausage room 1\n",
        "    ((1, 'SausageHere'),): 'eat',\n",
        "    ((1, 'SausageHere'), (1, 'Empty')): 'moveright',\n",
        "\n",
        "    #Sausage room1 milk room 3\n",
        "    ((1, 'SausageHere'), (1, 'Empty'), (2, 'Empty')): 'moveright',\n",
        "    ((1, 'SausageHere'), (1, 'Empty'), (2, 'Empty'), (3, 'MilkHere')): 'drink',\n",
        "    ((1, 'SausageHere'), (1, 'Empty'), (2, 'Empty'), (3, 'MilkHere'), (3, 'Empty')): 'stop',\n",
        "\n",
        "    # Sausage room 1, Milk room 2\n",
        "    ((1, 'SausageHere'), (1, 'Empty'), (2, 'MilkHere')): 'drink',\n",
        "    ((1, 'SausageHere'), (1, 'Empty'), (2, 'MilkHere'), (2, 'Empty')): 'moveright',\n",
        "    ((1, 'SausageHere'), (1, 'Empty'), (2, 'MilkHere'), (2, 'Empty'), (3, 'Empty')): 'stop',\n",
        "\n",
        "\n",
        "\n",
        "\n",
        "    # Milk room 1\n",
        "    ((1, 'MilkHere'),): 'drink',\n",
        "    ((1, 'MilkHere'), (1, 'Empty')): 'moveright',\n",
        "\n",
        "    # Milk room 1 Sausage room 3\n",
        "    ((1, 'MilkHere'), (1, 'Empty'), (2, 'Empty')): 'moveright',\n",
        "    ((1, 'MilkHere'), (1, 'Empty'), (2, 'Empty'), (3, 'SausageHere')): 'eat',\n",
        "    ((1, 'MilkHere'), (1, 'Empty'), (2, 'Empty'), (3, 'SausageHere'), (3, 'Empty')): 'stop',\n",
        "\n",
        "    # Milk room 1, Sausage room 2\n",
        "    ((1, 'MilkHere'), (1, 'Empty'), (2, 'SausageHere')): 'eat',\n",
        "    ((1, 'MilkHere'), (1, 'Empty'), (2, 'SausageHere'), (2, 'Empty')): 'moveright',\n",
        "    ((1, 'MilkHere'), (1, 'Empty'), (2, 'SausageHere'), (2, 'Empty'), (3, 'Empty')): 'stop',\n",
        "\n",
        "\n",
        "\n",
        "\n",
        "    #Start in room 3\n",
        "\n",
        "    #Empty room 3\n",
        "    ((3, 'Empty'),): 'moveleft',\n",
        "\n",
        "\n",
        "    #Empty room 3, Sausage room 2\n",
        "    ((3, 'Empty'), (2, 'SausageHere')): 'eat',\n",
        "    ((3, 'Empty'), (2, 'SausageHere'), (2, 'Empty')): 'moveleft',\n",
        "    ((3, 'Empty'), (2, 'SausageHere'), (2, 'Empty'), (1, 'MilkHere')): 'drink',\n",
        "    ((3, 'Empty'), (2, 'SausageHere'), (2, 'Empty'), (1, 'MilkHere'), (1, 'Empty')): 'stop',\n",
        "\n",
        "\n",
        "\n",
        "    #Empty room 3, Milk room 2\n",
        "    ((3, 'Empty'), (2, 'MilkHere')): 'drink',\n",
        "    ((3, 'Empty'), (2, 'MilkHere'), (2, 'Empty')): 'moveleft',\n",
        "    ((3, 'Empty'), (2, 'MilkHere'), (2, 'Empty'), (1, 'SausageHere')): 'eat',\n",
        "    ((3, 'Empty'), (2, 'MilkHere'), (2, 'Empty'), (1, 'SausageHere'), (1, 'Empty')): 'stop',\n",
        "\n",
        "\n",
        "    # Sausage room 3\n",
        "    ((3, 'SausageHere'),): 'eat',\n",
        "    ((3, 'SausageHere'), (3, 'Empty')): 'moveleft',\n",
        "\n",
        "\n",
        "    # Sausage room 3, Milk room 2\n",
        "    ((3, 'SausageHere'), (3, 'Empty'), (2, 'MilkHere')): 'drink',\n",
        "    ((3, 'SausageHere'), (3, 'Empty'), (2, 'MilkHere'), (2, 'Empty')): 'moveleft',\n",
        "    ((3, 'SausageHere'), (3, 'Empty'), (2, 'MilkHere'), (2, 'Empty'), (1, 'Empty')): 'stop',\n",
        "\n",
        "\n",
        "    # Sausage room 3, Milk room 1\n",
        "    ((3, 'SausageHere'), (3, 'Empty'), (2, 'Empty')): 'moveleft',\n",
        "    ((3, 'SausageHere'), (3, 'Empty'), (2, 'Empty'), (1, 'MilkHere')): 'drink',\n",
        "    ((3, 'SausageHere'), (3, 'Empty'), (2, 'Empty'), (1, 'MilkHere'), (1, 'Empty')): 'stop',\n",
        "\n",
        "\n",
        "    #Milk room 3\n",
        "    ((3, 'MilkHere'),): 'drink',\n",
        "    ((3, 'MilkHere'), (3, 'Empty')): 'moveleft',\n",
        "\n",
        "\n",
        "    #Milk room 3, Sausage room 2\n",
        "    ((3, 'MilkHere'), (3, 'Empty'), (2, 'SausageHere')): 'eat',\n",
        "    ((3, 'MilkHere'), (3, 'Empty'), (2, 'SausageHere'), (2, 'Empty')): 'moveleft',\n",
        "    ((3, 'MilkHere'), (3, 'Empty'), (2, 'SausageHere'), (2, 'Empty'), (1, 'Empty')): 'stop',\n",
        "\n",
        "\n",
        "    #Milk room 3, Sausage room 1\n",
        "    ((3, 'MilkHere'), (3, 'Empty'), (2, 'Empty')): 'moveleft',\n",
        "    ((3, 'MilkHere'), (3, 'Empty'), (2, 'Empty'), (1, 'SausageHere')): 'eat',\n",
        "    ((3, 'MilkHere'), (3, 'Empty'), (2, 'Empty'), (1, 'SausageHere'), (1, 'Empty')): 'stop',\n",
        "\n",
        "\n",
        "\n",
        "\n",
        "    #Start in room 2\n",
        "\n",
        "    #Empty room 2\n",
        "    ((2, 'Empty'),): 'moveright',\n",
        "\n",
        "\n",
        "    #Empty room 2, Sausage room 1, milk room 3\n",
        "    ((2, 'Empty'), (3, 'MilkHere')): 'drink',\n",
        "    ((2, 'Empty'), (3, 'MilkHere'), (3, 'Empty')): 'moveleft',\n",
        "    ((2, 'Empty'), (3, 'MilkHere'), (3, 'Empty'), (2, 'Empty')): 'moveleft',\n",
        "    ((2, 'Empty'), (3, 'MilkHere'), (3, 'Empty'), (2, 'Empty'), (1, 'SausageHere')): 'eat',\n",
        "    ((2, 'Empty'), (3, 'MilkHere'), (3, 'Empty'), (2, 'Empty'), (1, 'SausageHere'), (1, 'Empty')): 'stop',\n",
        "\n",
        "\n",
        "\n",
        "    #Sausage room2, Milk room 3, empty room 1\n",
        "    ((2, 'SausageHere'),): 'eat',\n",
        "    ((2, 'SausageHere'), (2, 'Empty')): 'moveright',\n",
        "     ((2, 'SausageHere'), (2, 'Empty'), (3, 'MilkHere')): 'drink',\n",
        "     ((2, 'SausageHere'), (2, 'Empty'), (3, 'MilkHere'), (3, 'Empty')): 'stop',\n",
        "\n",
        "\n",
        "     #Milk room 2, Sausage room 3, empty room 1\n",
        "    ((2, 'MilkHere'),): 'drink',\n",
        "    ((2, 'MilkHere'), (2, 'Empty')): 'moveright',\n",
        "    ((2, 'MilkHere'), (2, 'Empty'), (3, 'SausageHere')): 'eat',\n",
        "    ((2, 'MilkHere'), (2, 'Empty'), (3, 'SausageHere'), (3, 'Empty')): 'stop',\n",
        "\n",
        "}\n"
      ],
      "metadata": {
        "id": "TuG00-JSGerg"
      },
      "execution_count": 4,
      "outputs": []
    },
    {
      "cell_type": "code",
      "source": [
        "# These are the locations for the cat-friendly house\n",
        "room1, room2, room3 = 1, 2, 3\n"
      ],
      "metadata": {
        "id": "hmJyXokwGki8"
      },
      "execution_count": 5,
      "outputs": []
    },
    {
      "cell_type": "code",
      "source": [
        "from food import Food\n",
        "\n",
        "class Milk(Food):\n",
        "    def __init__(self, weight=0,location=None):\n",
        "        Food.__init__(self)\n",
        "        self.calories = 150\n",
        "        self.weight = weight\n",
        "        self.location = location"
      ],
      "metadata": {
        "id": "GKO0Z_EcGnt9"
      },
      "execution_count": null,
      "outputs": []
    },
    {
      "cell_type": "code",
      "source": [
        "from food import Food\n",
        "\n",
        "class Sausage(Food):\n",
        "    def __init__(self, weight=0, location=None):\n",
        "        Food.__init__(self)\n",
        "        self.weight = weight\n",
        "        self.calories = 100\n",
        "        self.location = location"
      ],
      "metadata": {
        "id": "DRy31oYMHMQl"
      },
      "execution_count": 6,
      "outputs": []
    },
    {
      "cell_type": "code",
      "source": [
        "import random\n",
        "from CatFriendlyHouse import CatFriendlyHouse\n",
        "from environmentClass import Environment\n",
        "from agents import agent_cat\n",
        "from sausage import Sausage\n",
        "from milk import Milk\n",
        "\n",
        "\n",
        "\n",
        "def simulate_cat_in_house(num_steps):\n",
        "    # Create the environment (CatFriendlyHouse)\n",
        "    house = CatFriendlyHouse()\n",
        "\n",
        "    # Create the agent (AgentCat) and add it to house\n",
        "    cat = agent_cat()\n",
        "    house.agents.append(cat)\n",
        "    cat.location = house.default_location(cat)\n",
        "\n",
        "    # Add sausages and milk to the house\n",
        "    house.add_thing(Sausage(20))\n",
        "    house.add_thing(Milk(10))\n",
        "\n",
        "\n",
        "    # Run the simulation for 10 steps\n",
        "    house.run(num_steps)\n",
        "\n",
        "# Run the simulation for 10 steps\n",
        "if __name__ == \"__main__\":\n",
        "    simulate_cat_in_house(10)\n"
      ],
      "metadata": {
        "colab": {
          "base_uri": "https://localhost:8080/"
        },
        "id": "YS2P7PXFHO-O",
        "outputId": "8905ecb0-3613-4604-9947-c3cf75500c69"
      },
      "execution_count": 7,
      "outputs": [
        {
          "output_type": "stream",
          "name": "stdout",
          "text": [
            "Step 1:\n",
            "((3, 'MilkHere'),)\n",
            "Agent percepted (3, 'MilkHere').\n",
            "Agent decided to do drink.\n",
            "Step 2:\n",
            "((3, 'MilkHere'), (3, 'Empty'))\n",
            "Agent percepted (3, 'Empty').\n",
            "Agent decided to do moveleft.\n",
            "Step 3:\n",
            "((3, 'MilkHere'), (3, 'Empty'), (2, 'SausageHere'))\n",
            "Agent percepted (2, 'SausageHere').\n",
            "Agent decided to do eat.\n",
            "Step 4:\n",
            "((3, 'MilkHere'), (3, 'Empty'), (2, 'SausageHere'), (2, 'Empty'))\n",
            "Agent percepted (2, 'Empty').\n",
            "Agent decided to do moveleft.\n",
            "Step 5:\n",
            "((3, 'MilkHere'), (3, 'Empty'), (2, 'SausageHere'), (2, 'Empty'), (1, 'Empty'))\n",
            "Agent percepted (1, 'Empty').\n",
            "Agent decided to do stop.\n"
          ]
        }
      ]
    }
  ]
}