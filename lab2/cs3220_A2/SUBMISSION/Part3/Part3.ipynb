{
  "nbformat": 4,
  "nbformat_minor": 0,
  "metadata": {
    "colab": {
      "provenance": []
    },
    "kernelspec": {
      "name": "python3",
      "display_name": "Python 3"
    },
    "language_info": {
      "name": "python"
    }
  },
  "cells": [
    {
      "cell_type": "markdown",
      "source": [
        "Project setup"
      ],
      "metadata": {
        "id": "442mWn0qAOjG"
      }
    },
    {
      "cell_type": "code",
      "execution_count": 1,
      "metadata": {
        "colab": {
          "base_uri": "https://localhost:8080/"
        },
        "id": "wPng-b77_GnT",
        "outputId": "c4f622a3-0426-4b82-c0ca-d2f2552e3bd5"
      },
      "outputs": [
        {
          "output_type": "stream",
          "name": "stdout",
          "text": [
            "Cloning into 'CS3220'...\n",
            "remote: Enumerating objects: 385, done.\u001b[K\n",
            "remote: Counting objects: 100% (385/385), done.\u001b[K\n",
            "remote: Compressing objects: 100% (272/272), done.\u001b[K\n",
            "remote: Total 385 (delta 169), reused 321 (delta 105), pack-reused 0 (from 0)\u001b[K\n",
            "Receiving objects: 100% (385/385), 1.97 MiB | 11.80 MiB/s, done.\n",
            "Resolving deltas: 100% (169/169), done.\n"
          ]
        }
      ],
      "source": [
        "!git clone https://github.com/Mackenzie-Beck/CS3220.git"
      ]
    },
    {
      "cell_type": "code",
      "source": [
        "cd CS3220"
      ],
      "metadata": {
        "colab": {
          "base_uri": "https://localhost:8080/"
        },
        "id": "08JdyecW_kWj",
        "outputId": "827ebaed-a45e-4865-870d-918dcedc14b6"
      },
      "execution_count": 10,
      "outputs": [
        {
          "output_type": "stream",
          "name": "stdout",
          "text": [
            "[Errno 2] No such file or directory: 'CS3220'\n",
            "/content/CS3220\n"
          ]
        }
      ]
    },
    {
      "cell_type": "code",
      "source": [
        "cd lab2/"
      ],
      "metadata": {
        "colab": {
          "base_uri": "https://localhost:8080/"
        },
        "id": "hxX4u2uKABdu",
        "outputId": "cb7a23b6-fc1c-491d-f284-967058a385cb"
      },
      "execution_count": 12,
      "outputs": [
        {
          "output_type": "stream",
          "name": "stdout",
          "text": [
            "/content/CS3220/lab2\n"
          ]
        }
      ]
    },
    {
      "cell_type": "code",
      "source": [
        "cd cs3220_A2/SUBMISSION/Part3"
      ],
      "metadata": {
        "colab": {
          "base_uri": "https://localhost:8080/"
        },
        "id": "aN4BqeK8AGlR",
        "outputId": "cfabdb1e-9d7d-40f3-941a-636ee6671fdd"
      },
      "execution_count": 15,
      "outputs": [
        {
          "output_type": "stream",
          "name": "stdout",
          "text": [
            "/content/CS3220/lab2/cs3220_A2/SUBMISSION/Part3\n"
          ]
        }
      ]
    },
    {
      "cell_type": "code",
      "source": [
        "ls"
      ],
      "metadata": {
        "colab": {
          "base_uri": "https://localhost:8080/"
        },
        "id": "mIsAAVpbAMxQ",
        "outputId": "66d1a2d1-1bbd-49b6-9aa1-43e2dbeeecd5"
      },
      "execution_count": 16,
      "outputs": [
        {
          "output_type": "stream",
          "name": "stdout",
          "text": [
            "agentClass.py     companyEnvClass.py   envProClass.py    part3.txt     test_environment.py\n",
            "agentPrograms.py  directions.py        locations.py      \u001b[0m\u001b[01;34m__pycache__\u001b[0m/  thingClass.py\n",
            "agents.py         environmentClass.py  part3EnvClass.py  rules.py\n"
          ]
        }
      ]
    },
    {
      "cell_type": "code",
      "source": [
        "# directions for reflex agent\n",
        "# Left and right directions for reflex agent\n",
        "left = \"Left\"\n",
        "right = \"Right\""
      ],
      "metadata": {
        "id": "RYcup7W_AWgr"
      },
      "execution_count": 20,
      "outputs": []
    },
    {
      "cell_type": "code",
      "source": [
        "# these are the locations for the company specified in part 3\n",
        "\n",
        "Room1_A, Room1_B, Room1_C, Room2_A, Room2_B, Room2_C = (0,0), (0,1), (0,2), (1,0), (1,1), (1,2)"
      ],
      "metadata": {
        "id": "Km3oXQcIA9Lj"
      },
      "execution_count": 21,
      "outputs": []
    },
    {
      "cell_type": "code",
      "source": [
        "import random\n",
        "from envProClass import environmentPro\n",
        "from thingClass import Thing\n",
        "from locations import *\n",
        "from directions import *\n",
        "from agents import Student, ITStaff,OfficeManager\n",
        "\n",
        "\n",
        "\n",
        "\n",
        "class part3Env(environmentPro):\n",
        "  def __init__(self):\n",
        "    super().__init__()\n",
        "    self.locations=[Room1_A, Room1_B, Room1_C, Room2_A, Room2_B, Room2_C]\n",
        "\n",
        "  def default_location(self, thing):\n",
        "    print(\"The item is starting in random location...\")\n",
        "    return random.choice(self.locations)\n",
        "\n",
        "\n",
        "\n",
        "\n",
        "  def percept(self, agent):\n",
        "    #return a list of things that are in our agent's location\n",
        "    things = self.list_things_at(agent.location)\n",
        "    return agent.location, agent.direction, things\n",
        "\n",
        "\n",
        "\n",
        "\n",
        "\n",
        "  def execute_action(self, agent, action):\n",
        "    #changes the state of the environment based on what the agent does.\n",
        "    if self.is_agent_alive(agent):\n",
        "      if action=='Go forward':\n",
        "          # if right then check if agent is in rooms that require special actions\n",
        "          if agent.direction==right:\n",
        "            if agent.location == Room1_C:\n",
        "                agent.location = Room2_C\n",
        "                agent.direction = left\n",
        "                agent.performance -= 1\n",
        "\n",
        "            elif agent.location == Room2_C:\n",
        "                agent.location = Room1_C\n",
        "                agent.direction = left\n",
        "                agent.performance -= 1\n",
        "            # if not in special rooms, then move forward\n",
        "            else:\n",
        "                agent.location = tuple(map(sum, zip(agent.location, (0,1))))\n",
        "                agent.performance -= 1\n",
        "          # if left then just move forward because rules_match will take care of the special actions\n",
        "          elif agent.direction==left:\n",
        "             agent.location = tuple(map(sum, zip(agent.location, (0,-1))))\n",
        "             agent.performance -= 1\n",
        "\n",
        "      elif action == 'Give mail':\n",
        "        items = self.list_things_at(agent.location, thingClass=OfficeManager)\n",
        "        agent.performance += 3\n",
        "        self.update_agent_alive(agent)\n",
        "        print(\"The Agent decided to {} to {} at location: {}\".format(action,items[0],agent.location))\n",
        "        self.delete_thing(items[0])\n",
        "\n",
        "      elif action == 'Give donuts':\n",
        "        items = self.list_things_at(agent.location, thingClass=ITStaff)\n",
        "        agent.performance += 3\n",
        "        self.update_agent_alive(agent)\n",
        "        print(\"The Agent decided to {} to {} at location: {}\".format(action,items[0],agent.location))\n",
        "        self.delete_thing(items[0])\n",
        "\n",
        "      elif action == 'Give pizza':\n",
        "        items = self.list_things_at(agent.location, thingClass=Student)\n",
        "        agent.performance += 3\n",
        "        self.update_agent_alive(agent)\n",
        "        print(\"The Agent decided to {} to {} at location: {}\".format(action,items[0],agent.location))\n",
        "        self.delete_thing(items[0])\n",
        "\n",
        "      elif action == 'Stop':\n",
        "        agent.alive = False\n",
        "\n",
        "\n",
        "\n",
        "      self.update_agent_alive(agent)\n",
        "     # print(\"The Agent decided to {} at location: {}\".format(action,agent.location))\n"
      ],
      "metadata": {
        "id": "zNTUL-TvA_U6"
      },
      "execution_count": 22,
      "outputs": []
    },
    {
      "cell_type": "code",
      "source": [
        "def interpret_input_a2p3Rules(percept):\n",
        "  # this is where the agent interprets its percept and updates env\n",
        "  loc, dir, things = percept\n",
        "  status = 'Clear'\n",
        "\n",
        "  # if there are no things in the room, check if the agent is in the last room\n",
        "  if len(things) == 0:\n",
        "    if (loc in [Room1_A, Room2_A]) and dir == left:\n",
        "      status = 'Last room'\n",
        "  else:\n",
        "    for thing in things:\n",
        "      if isinstance(thing, OfficeManager):\n",
        "        status = 'Office manager'\n",
        "      elif isinstance(thing, ITStaff):\n",
        "        status = 'IT'\n",
        "      elif isinstance(thing, Student):\n",
        "        status = 'Student'\n",
        "\n",
        "  return status\n",
        "\n",
        "\n",
        "\n",
        "def rule_match_a2p3(state, rules):\n",
        "  # this is where the agent selects an action based on its state and rules\n",
        "  return rules[state]"
      ],
      "metadata": {
        "id": "tuRetWi4BK1N"
      },
      "execution_count": 23,
      "outputs": []
    },
    {
      "cell_type": "code",
      "source": [
        "from part3EnvClass import part3Env\n",
        "from agents import ReflexAgentP3\n",
        "\n",
        "# This funciton runs the environment for 100 steps and prints the final performance of the agent\n",
        "\n",
        "\n",
        "def test_environment():\n",
        "    # Create the environment\n",
        "    env = part3Env()\n",
        "\n",
        "    # Create the agent\n",
        "    agent = ReflexAgentP3()\n",
        "    # Add the agent to the environment\n",
        "    env.add_thing(agent)\n",
        "\n",
        "\n",
        "    # Add 10 things to the environment in random locations\n",
        "    from agents import Student, ITStaff, OfficeManager\n",
        "    import random\n",
        "\n",
        "    things_to_add = [\n",
        "        Student(), Student(), Student(),\n",
        "        ITStaff(), ITStaff(),\n",
        "        OfficeManager(), OfficeManager(),\n",
        "        Student(), ITStaff(), OfficeManager()\n",
        "    ]\n",
        "\n",
        "    for thing in things_to_add:\n",
        "        location = env.default_location(thing)\n",
        "        env.add_thing(thing, location)\n",
        "        print(f\"Added {type(thing).__name__} at location: {location}\")\n",
        "\n",
        "\n",
        "\n",
        "\n",
        "\n",
        "\n",
        "\n",
        "\n",
        "\n",
        "\n",
        "    # Run the environment for a certain number of steps\n",
        "    print(\"Begin Simulation ----------------------------\")\n",
        "    for _ in range(100):  # Run for 100 steps\n",
        "        env.step()\n",
        "        if not agent.alive:\n",
        "            break\n",
        "\n",
        "    # Print final performance\n",
        "    print(f\"Agent's final performance: {agent.performance}\")\n",
        "\n",
        "if __name__ == \"__main__\":\n",
        "    test_environment()"
      ],
      "metadata": {
        "colab": {
          "base_uri": "https://localhost:8080/"
        },
        "id": "43-KKDNcBM8z",
        "outputId": "8ba0387f-76db-4a94-e395-4040523f1531"
      },
      "execution_count": 25,
      "outputs": [
        {
          "output_type": "stream",
          "name": "stdout",
          "text": [
            "Welcome!\n",
            "The item is starting in random location...\n",
            "The item is starting in random location...\n",
            "Added Student at location: (0, 0)\n",
            "The item is starting in random location...\n",
            "Added Student at location: (0, 0)\n",
            "The item is starting in random location...\n",
            "Added Student at location: (1, 2)\n",
            "The item is starting in random location...\n",
            "Added ITStaff at location: (0, 2)\n",
            "The item is starting in random location...\n",
            "Added ITStaff at location: (0, 2)\n",
            "The item is starting in random location...\n",
            "Added OfficeManager at location: (1, 1)\n",
            "The item is starting in random location...\n",
            "Added OfficeManager at location: (0, 1)\n",
            "The item is starting in random location...\n",
            "Added Student at location: (0, 1)\n",
            "The item is starting in random location...\n",
            "Added ITStaff at location: (0, 0)\n",
            "The item is starting in random location...\n",
            "Added OfficeManager at location: (1, 1)\n",
            "Begin Simulation ----------------------------\n",
            "Agent percepted ((1, 0), 'Right', []).\n",
            "Agent decided to do Go forward.\n",
            "Agent percepted ((1, 1), 'Right', [<OfficeManager>, <OfficeManager>]).\n",
            "Agent decided to do Give mail.\n",
            "The Agent decided to Give mail to <OfficeManager> at location: (1, 1)\n",
            "Agent percepted ((1, 1), 'Right', [<OfficeManager>]).\n",
            "Agent decided to do Give mail.\n",
            "The Agent decided to Give mail to <OfficeManager> at location: (1, 1)\n",
            "Agent percepted ((1, 1), 'Right', []).\n",
            "Agent decided to do Go forward.\n",
            "Agent percepted ((1, 2), 'Right', [<Student>]).\n",
            "Agent decided to do Give pizza.\n",
            "The Agent decided to Give pizza to <Student> at location: (1, 2)\n",
            "Agent percepted ((1, 2), 'Right', []).\n",
            "Agent decided to do Go forward.\n",
            "Agent percepted ((0, 2), 'Left', [<ITStaff>, <ITStaff>]).\n",
            "Agent decided to do Give donuts.\n",
            "The Agent decided to Give donuts to <ITStaff> at location: (0, 2)\n",
            "Agent percepted ((0, 2), 'Left', [<ITStaff>]).\n",
            "Agent decided to do Give donuts.\n",
            "The Agent decided to Give donuts to <ITStaff> at location: (0, 2)\n",
            "Agent percepted ((0, 2), 'Left', []).\n",
            "Agent decided to do Go forward.\n",
            "Agent percepted ((0, 1), 'Left', [<OfficeManager>, <Student>]).\n",
            "Agent decided to do Give pizza.\n",
            "The Agent decided to Give pizza to <Student> at location: (0, 1)\n",
            "Agent percepted ((0, 1), 'Left', [<OfficeManager>]).\n",
            "Agent decided to do Give mail.\n",
            "The Agent decided to Give mail to <OfficeManager> at location: (0, 1)\n",
            "Agent percepted ((0, 1), 'Left', []).\n",
            "Agent decided to do Go forward.\n",
            "Agent percepted ((0, 0), 'Left', [<Student>, <Student>, <ITStaff>]).\n",
            "Agent decided to do Give donuts.\n",
            "The Agent decided to Give donuts to <ITStaff> at location: (0, 0)\n",
            "Agent percepted ((0, 0), 'Left', [<Student>, <Student>]).\n",
            "Agent decided to do Give pizza.\n",
            "The Agent decided to Give pizza to <Student> at location: (0, 0)\n",
            "Agent percepted ((0, 0), 'Left', [<Student>]).\n",
            "Agent decided to do Give pizza.\n",
            "The Agent decided to Give pizza to <Student> at location: (0, 0)\n",
            "Agent percepted ((0, 0), 'Left', []).\n",
            "Agent decided to do Stop.\n",
            "Agent's final performance: 65\n"
          ]
        }
      ]
    }
  ]
}