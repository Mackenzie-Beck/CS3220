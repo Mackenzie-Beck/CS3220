{
  "nbformat": 4,
  "nbformat_minor": 0,
  "metadata": {
    "colab": {
      "provenance": []
    },
    "kernelspec": {
      "name": "python3",
      "display_name": "Python 3"
    },
    "language_info": {
      "name": "python"
    }
  },
  "cells": [
    {
      "cell_type": "markdown",
      "source": [
        "**Simple reflex agents** - Project"
      ],
      "metadata": {
        "id": "nyBYADCAfdug"
      }
    },
    {
      "cell_type": "markdown",
      "source": [
        "These agents select actions on the basis of the **current** percept, ignoring the rest of the percept history"
      ],
      "metadata": {
        "id": "wUQPrjerf0Dp"
      }
    },
    {
      "cell_type": "code",
      "execution_count": null,
      "metadata": {
        "id": "DmyBN-XReM1P"
      },
      "outputs": [],
      "source": [
        "def SimpleReflexAgentProgram(rules, interpret_input):\n",
        "    #This AP takes action based solely on the percept.\n",
        "\n",
        "    def program(percept):\n",
        "        state = interpret_input(percept)\n",
        "        rule = rule_match(state, rules)\n",
        "        action = rule.action\n",
        "        return action\n",
        "\n",
        "    return program"
      ]
    },
    {
      "cell_type": "code",
      "source": [
        "def rule_match(state, rules):\n",
        "    \"\"\"Find the first rule that matches state.\"\"\"\n",
        "    for rule in rules:\n",
        "        if rule.matches(state):\n",
        "            return rule"
      ],
      "metadata": {
        "id": "7yvEfWEfiSUu"
      },
      "execution_count": null,
      "outputs": []
    },
    {
      "cell_type": "code",
      "source": [
        "'''\n",
        "rules={((0, 0), 'Dirty'): 'Suck',\n",
        "        (((1, 0), 'Dirty'): 'Suck',\n",
        "        (((0, 0), 'Clean'): 'Right',\n",
        "        (((1, 0), 'Clean'): 'Left',\n",
        "        }\n",
        "\n",
        "\n",
        "        if status == 'Dirty':\n",
        "            return 'Suck'\n",
        "        elif location == loc_A:\n",
        "            return 'Right'\n",
        "        elif location == loc_B:\n",
        "            return 'Left'\n",
        "\n",
        "--> not optimal to embed logic (rules) in the AgentProgram\n",
        "'''\n",
        "\n",
        "def interpret_input(percept):\n",
        "  loc, status = percept\n",
        "  return status\n",
        "\n",
        "\n",
        "def rule_match(state, rules):\n",
        "  for key in rules:\n",
        "    if state in key:\n",
        "      return rules[key]\n",
        "\n",
        "\n"
      ],
      "metadata": {
        "id": "T9KfCX81kC3G"
      },
      "execution_count": null,
      "outputs": []
    },
    {
      "cell_type": "code",
      "source": [
        "import os\n",
        "import sys\n",
        "import random"
      ],
      "metadata": {
        "id": "IaCVmy6RzDjr"
      },
      "execution_count": 1,
      "outputs": []
    },
    {
      "cell_type": "code",
      "source": [
        "%load_ext autoreload\n",
        "#Now, you can turn on auto-reloading\n",
        "%autoreload 2\n",
        "\n",
        "from google.colab import drive\n",
        "drive.mount('/content/drive')\n",
        "\n",
        "path = '/content/drive/MyDrive/Colab_Notebooks/cs3220_A2_p3' #@param {type: \"string\"}\n"
      ],
      "metadata": {
        "colab": {
          "base_uri": "https://localhost:8080/"
        },
        "id": "_QjMKgWc0_xR",
        "outputId": "8394561c-f919-4eb3-8c05-b4206c84c555"
      },
      "execution_count": 2,
      "outputs": [
        {
          "output_type": "stream",
          "name": "stdout",
          "text": [
            "Mounted at /content/drive\n"
          ]
        }
      ]
    },
    {
      "cell_type": "code",
      "source": [
        "!pwd"
      ],
      "metadata": {
        "colab": {
          "base_uri": "https://localhost:8080/"
        },
        "id": "X7aSrwZq1jSg",
        "outputId": "54eab841-6724-48e5-e690-166a052116a9"
      },
      "execution_count": null,
      "outputs": [
        {
          "output_type": "stream",
          "name": "stdout",
          "text": [
            "/content/drive/My Drive/Colab_Notebooks/cs3220_A2_p3/A2_project/src\n"
          ]
        }
      ]
    },
    {
      "cell_type": "code",
      "source": [
        "prj_folder=\"A2_project\"#@param {type: \"string\"}\n",
        "sys.path.append(os.path.join(path, \"A2_project\", \"src\"))"
      ],
      "metadata": {
        "id": "oWs4Eq3F0nBZ"
      },
      "execution_count": null,
      "outputs": []
    },
    {
      "cell_type": "code",
      "source": [
        "from locations import *"
      ],
      "metadata": {
        "id": "qN97riCZ74_Q"
      },
      "execution_count": null,
      "outputs": []
    },
    {
      "cell_type": "markdown",
      "source": [
        "There is an office building with 4 rooms.\n",
        "The delivery agent moves from one room to another and gives the package according to the type of recipient in the room.\n",
        "The recipients are:\n",
        "* an office manager - waiting for daily mail\n",
        "* an IT specialist - ordered donuts from Tim Hortons\n",
        "* a Student - ordered a pizza from Domino Pizza\n",
        "\n",
        "The initial distribution recipients among 4 rooms is random and unknown to the Agent.\n",
        "\n",
        "However, the Agent can perceive its location (what room is current) and all recipients in the room.\n",
        "\n",
        "The Agent Program is able to recognize the type of recipient based on the Agent's percepts (one recipient per step).\n",
        "\n",
        "The Agent gives the suitable package to the recipient.\n",
        "\n",
        "If all recipients in the room have already received their packages (or nobody in the room) the Agent moves to the next room.\n",
        "\n",
        "When the last room has been checked the Agent stops.\n",
        "The initial position of the Agent is random."
      ],
      "metadata": {
        "id": "NcEjJWsjzUb7"
      }
    },
    {
      "cell_type": "code",
      "source": [
        "locations=loc_A, loc_B, loc_C, loc_D\n",
        "locations"
      ],
      "metadata": {
        "colab": {
          "base_uri": "https://localhost:8080/"
        },
        "id": "bxWj9A9JCnqN",
        "outputId": "fb26cf36-6177-48e2-80cf-70fd7856c960"
      },
      "execution_count": null,
      "outputs": [
        {
          "output_type": "execute_result",
          "data": {
            "text/plain": [
              "((0, 0), (1, 0), (1, 0), (1, 1))"
            ]
          },
          "metadata": {},
          "execution_count": 25
        }
      ]
    },
    {
      "cell_type": "code",
      "source": [
        "a=loc_B\n",
        "a"
      ],
      "metadata": {
        "colab": {
          "base_uri": "https://localhost:8080/"
        },
        "id": "t6ePJlqdhDG0",
        "outputId": "8c018716-d267-45ef-fe41-a8c08357d38c"
      },
      "execution_count": null,
      "outputs": [
        {
          "output_type": "execute_result",
          "data": {
            "text/plain": [
              "(1, 0)"
            ]
          },
          "metadata": {},
          "execution_count": 26
        }
      ]
    },
    {
      "cell_type": "code",
      "source": [
        "(1,0) in locations"
      ],
      "metadata": {
        "colab": {
          "base_uri": "https://localhost:8080/"
        },
        "id": "N4hYK8u-hH-x",
        "outputId": "73f543b1-07b4-4b44-9bb2-4abd7d5146eb"
      },
      "execution_count": null,
      "outputs": [
        {
          "output_type": "execute_result",
          "data": {
            "text/plain": [
              "True"
            ]
          },
          "metadata": {},
          "execution_count": 28
        }
      ]
    },
    {
      "cell_type": "code",
      "source": [
        "locations.index(a)"
      ],
      "metadata": {
        "colab": {
          "base_uri": "https://localhost:8080/"
        },
        "id": "TBKTDGeChVD4",
        "outputId": "a051e5b8-0cfc-43df-dfb3-8d9e5f61c424"
      },
      "execution_count": null,
      "outputs": [
        {
          "output_type": "execute_result",
          "data": {
            "text/plain": [
              "1"
            ]
          },
          "metadata": {},
          "execution_count": 29
        }
      ]
    },
    {
      "cell_type": "code",
      "source": [
        "locations[locations.index(a)+1]"
      ],
      "metadata": {
        "colab": {
          "base_uri": "https://localhost:8080/"
        },
        "id": "t7uKQpAmhacZ",
        "outputId": "a45fa2f0-341c-4ca6-9e90-fba867eef6d3"
      },
      "execution_count": null,
      "outputs": [
        {
          "output_type": "execute_result",
          "data": {
            "text/plain": [
              "(1, 0)"
            ]
          },
          "metadata": {},
          "execution_count": 30
        }
      ]
    },
    {
      "cell_type": "code",
      "source": [
        "from agents import ReflexAgentA2pro"
      ],
      "metadata": {
        "id": "f7On-XohCVQp"
      },
      "execution_count": null,
      "outputs": []
    },
    {
      "cell_type": "code",
      "source": [
        "from agents import Student, ITStuff,OfficeManager"
      ],
      "metadata": {
        "id": "a7QIRpUvoi-I"
      },
      "execution_count": null,
      "outputs": []
    },
    {
      "cell_type": "code",
      "source": [
        "s=Student()\n",
        "i=ITStuff()\n",
        "o=OfficeManager()"
      ],
      "metadata": {
        "id": "ZH9krh5joteT"
      },
      "execution_count": null,
      "outputs": []
    },
    {
      "cell_type": "code",
      "source": [],
      "metadata": {
        "id": "aMAZTmjrzdVl"
      },
      "execution_count": null,
      "outputs": []
    },
    {
      "cell_type": "code",
      "source": [
        "raA2pro1=ReflexAgentA2pro()"
      ],
      "metadata": {
        "id": "RiAeZgLjDNxN"
      },
      "execution_count": null,
      "outputs": []
    },
    {
      "cell_type": "code",
      "source": [
        "loc_D"
      ],
      "metadata": {
        "colab": {
          "base_uri": "https://localhost:8080/"
        },
        "id": "MgdYPhe9pBl9",
        "outputId": "5a78f86c-65dd-41c6-9901-19a3ee642163"
      },
      "execution_count": null,
      "outputs": [
        {
          "output_type": "execute_result",
          "data": {
            "text/plain": [
              "(1, 1)"
            ]
          },
          "metadata": {},
          "execution_count": 36
        }
      ]
    },
    {
      "cell_type": "code",
      "source": [
        "testPercept=(loc_A,[s,o,i])\n",
        "testPercept\n",
        "raA2pro1.program(testPercept)"
      ],
      "metadata": {
        "colab": {
          "base_uri": "https://localhost:8080/",
          "height": 35
        },
        "id": "4aG-lwLBFG1G",
        "outputId": "da862ba0-aa1f-441e-c527-11cde03a270e"
      },
      "execution_count": null,
      "outputs": [
        {
          "output_type": "execute_result",
          "data": {
            "text/plain": [
              "'Give pizza'"
            ],
            "application/vnd.google.colaboratory.intrinsic+json": {
              "type": "string"
            }
          },
          "metadata": {},
          "execution_count": 110
        }
      ]
    },
    {
      "cell_type": "code",
      "source": [
        "from companyEnvClass import *"
      ],
      "metadata": {
        "id": "35gncJJ4GPzD"
      },
      "execution_count": null,
      "outputs": []
    },
    {
      "cell_type": "code",
      "source": [
        "ce=CompanyEnvironment()"
      ],
      "metadata": {
        "id": "1l8Pv5uaGdsj"
      },
      "execution_count": null,
      "outputs": []
    },
    {
      "cell_type": "code",
      "source": [
        "ce.add_thing(raA2pro1)"
      ],
      "metadata": {
        "colab": {
          "base_uri": "https://localhost:8080/"
        },
        "id": "ixs5g1M-GjUJ",
        "outputId": "5ac6a5a8-2771-44c5-a8b1-dfe68d8b219a"
      },
      "execution_count": null,
      "outputs": [
        {
          "output_type": "stream",
          "name": "stdout",
          "text": [
            "Welcome!\n",
            "The item is starting in random location...\n"
          ]
        }
      ]
    },
    {
      "cell_type": "code",
      "source": [
        "ce.agents"
      ],
      "metadata": {
        "colab": {
          "base_uri": "https://localhost:8080/"
        },
        "id": "x9aQqefHskdm",
        "outputId": "ad2a55ec-038e-4b29-c00f-7a31cce31ad4"
      },
      "execution_count": null,
      "outputs": [
        {
          "output_type": "execute_result",
          "data": {
            "text/plain": [
              "[<Agent>]"
            ]
          },
          "metadata": {},
          "execution_count": 172
        }
      ]
    },
    {
      "cell_type": "code",
      "source": [
        "print(\"State of the Environment: {}.\".format(ce.locations))\n",
        "print(\"Agent is located at {}.\".format(raA2pro1.location))"
      ],
      "metadata": {
        "colab": {
          "base_uri": "https://localhost:8080/"
        },
        "id": "xISSsERYGrLA",
        "outputId": "88357587-3bbd-4617-ae35-e8fb1df2df3d"
      },
      "execution_count": null,
      "outputs": [
        {
          "output_type": "stream",
          "name": "stdout",
          "text": [
            "State of the Environment: [(0, 0), (1, 0), (1, 0), (1, 1)].\n",
            "Agent is located at (1, 1).\n"
          ]
        }
      ]
    },
    {
      "cell_type": "code",
      "source": [
        "ce.add_thing(i)"
      ],
      "metadata": {
        "colab": {
          "base_uri": "https://localhost:8080/"
        },
        "id": "LVCgxNagt919",
        "outputId": "a90304db-c7e7-419e-f2fa-3a945e28260f"
      },
      "execution_count": null,
      "outputs": [
        {
          "output_type": "stream",
          "name": "stdout",
          "text": [
            "The item is starting in random location...\n"
          ]
        }
      ]
    },
    {
      "cell_type": "code",
      "source": [
        "ce.things"
      ],
      "metadata": {
        "colab": {
          "base_uri": "https://localhost:8080/"
        },
        "id": "U1lfj638uFyz",
        "outputId": "6430cf81-3cfc-4dcb-837e-1d1e5fb05c92"
      },
      "execution_count": null,
      "outputs": [
        {
          "output_type": "execute_result",
          "data": {
            "text/plain": [
              "[<ITStuff>]"
            ]
          },
          "metadata": {},
          "execution_count": 175
        }
      ]
    },
    {
      "cell_type": "code",
      "source": [
        "print(\"IT is located at {}.\".format(i.location))"
      ],
      "metadata": {
        "colab": {
          "base_uri": "https://localhost:8080/"
        },
        "id": "km0jI7TpuLsA",
        "outputId": "aca4b5f4-90dd-44d7-bd98-e73d5a491149"
      },
      "execution_count": null,
      "outputs": [
        {
          "output_type": "stream",
          "name": "stdout",
          "text": [
            "IT is located at (1, 1).\n"
          ]
        }
      ]
    },
    {
      "cell_type": "code",
      "source": [
        "ce.step()"
      ],
      "metadata": {
        "id": "DKUcrqGTG9hK",
        "outputId": "e120fc1f-11ed-499c-f920-e4aceee7f46e",
        "colab": {
          "base_uri": "https://localhost:8080/"
        }
      },
      "execution_count": null,
      "outputs": [
        {
          "output_type": "stream",
          "name": "stdout",
          "text": [
            "Agent percepted ((1, 1), [<ITStuff>]).\n",
            "Agent decided to do Give donuts.\n",
            "The Agent decided to Give donuts to <ITStuff> at location: (1, 1)\n"
          ]
        }
      ]
    },
    {
      "cell_type": "code",
      "source": [
        "ce.step()"
      ],
      "metadata": {
        "id": "Sn_p4ShlHBF6",
        "outputId": "eec0654b-b7cf-445e-93b7-669eeb2f9467",
        "colab": {
          "base_uri": "https://localhost:8080/"
        }
      },
      "execution_count": null,
      "outputs": [
        {
          "output_type": "stream",
          "name": "stdout",
          "text": [
            "Last room\n",
            "Agent percepted ((1, 1), []).\n",
            "Agent decided to do Stop.\n"
          ]
        }
      ]
    },
    {
      "cell_type": "code",
      "source": [
        "ce.step()"
      ],
      "metadata": {
        "colab": {
          "base_uri": "https://localhost:8080/"
        },
        "id": "oRWJCbsyz3wM",
        "outputId": "9aabe3a2-0aea-4edf-ebee-63b82ceec1d9"
      },
      "execution_count": null,
      "outputs": [
        {
          "output_type": "stream",
          "name": "stdout",
          "text": [
            "There is no one here who could work...\n"
          ]
        }
      ]
    },
    {
      "cell_type": "markdown",
      "source": [
        "![image.png](data:image/png;base64,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)"
      ],
      "metadata": {
        "id": "CqyJuYjX30_x"
      }
    },
    {
      "cell_type": "markdown",
      "source": [
        "Design and implement the Delivery Agent for the Environment according to the plan above.\n",
        "\n",
        "The Agent can be placed in any room randomly.\n",
        "\n",
        "There are 10 people in the building (the number of each type of recipient is randomly generated, as are their places in the building).\n",
        "\n",
        "The agent can recognise the location and there is a set of rules for movement.\n",
        "The agent can move forward, turn right/left.\n",
        "Initially the agent position is ready to go forward (-->).\n",
        "\n",
        "Determine the case when the agent should stop (remember that the agent has no memory).\n",
        "\n",
        "The agent's performance changes as follows:\n",
        "Each move (or turn): -1\n",
        "Give a package: -3\n",
        "Initially the agent's performance is 40 (30 for packages, 5 for movement, 5 - extra)"
      ],
      "metadata": {
        "id": "TNwW4MQo32D2"
      }
    }
  ]
}